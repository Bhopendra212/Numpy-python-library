{
 "cells": [
  {
   "cell_type": "code",
   "execution_count": 1,
   "id": "94fe3b61-cb8f-41bc-81b1-5bdc704f474a",
   "metadata": {},
   "outputs": [],
   "source": [
    "import numpy as np"
   ]
  },
  {
   "cell_type": "code",
   "execution_count": 3,
   "id": "fd50586e-708a-4de7-93b1-e5c251191ebf",
   "metadata": {},
   "outputs": [
    {
     "name": "stdout",
     "output_type": "stream",
     "text": [
      "[1 2 3 4 5]\n",
      "<class 'numpy.ndarray'>\n"
     ]
    }
   ],
   "source": [
    "arr=np.array([1,2,3,4,5])\n",
    "print(arr)\n",
    "print(type(arr))"
   ]
  },
  {
   "cell_type": "code",
   "execution_count": 4,
   "id": "f0562092-355c-4544-9556-b0960c31b1b8",
   "metadata": {},
   "outputs": [
    {
     "name": "stdout",
     "output_type": "stream",
     "text": [
      "[1 2 3 4 5]\n",
      "<class 'numpy.ndarray'>\n"
     ]
    }
   ],
   "source": [
    "arr=np.array((1,2,3,4,5))\n",
    "print(arr)\n",
    "print(type(arr))"
   ]
  },
  {
   "cell_type": "code",
   "execution_count": 5,
   "id": "bebdde23-8f0d-40ed-9604-f09fe1dbbd4d",
   "metadata": {},
   "outputs": [],
   "source": [
    "# Dimensions in array"
   ]
  },
  {
   "cell_type": "code",
   "execution_count": 7,
   "id": "74bad831-e524-4c7b-8b0f-ea828d2ea5a1",
   "metadata": {},
   "outputs": [
    {
     "name": "stdout",
     "output_type": "stream",
     "text": [
      "20\n",
      "<class 'numpy.ndarray'>\n",
      "0\n"
     ]
    }
   ],
   "source": [
    "arr=np.array(20)\n",
    "print(arr)\n",
    "print(type(arr))\n",
    "print(arr.ndim)"
   ]
  },
  {
   "cell_type": "code",
   "execution_count": 8,
   "id": "4617b1b4-4401-4c74-9428-94230374ea4c",
   "metadata": {},
   "outputs": [],
   "source": [
    "# 1 D array"
   ]
  },
  {
   "cell_type": "code",
   "execution_count": 10,
   "id": "b8a063b3-df81-46ba-9f38-174727dc4420",
   "metadata": {},
   "outputs": [
    {
     "name": "stdout",
     "output_type": "stream",
     "text": [
      "[1 2 3 4 5]\n",
      "1\n"
     ]
    }
   ],
   "source": [
    "arr=np.array([1,2,3,4,5])\n",
    "print(arr)\n",
    "print(arr.ndim) "
   ]
  },
  {
   "cell_type": "code",
   "execution_count": 11,
   "id": "8e9b001d-a3e6-4482-9b3d-10db436450da",
   "metadata": {},
   "outputs": [],
   "source": [
    "#2 D array"
   ]
  },
  {
   "cell_type": "code",
   "execution_count": 13,
   "id": "9338bb9a-3a1c-4e30-b781-69063d6bb529",
   "metadata": {},
   "outputs": [
    {
     "name": "stdout",
     "output_type": "stream",
     "text": [
      "[[1 2 3]\n",
      " [4 5 6]]\n",
      "2\n"
     ]
    }
   ],
   "source": [
    "arr=np.array([[1,2,3],[4,5,6]])\n",
    "print(arr)\n",
    "print(arr.ndim)"
   ]
  },
  {
   "cell_type": "code",
   "execution_count": 14,
   "id": "369372eb-aa14-4236-9f4d-b338088ff586",
   "metadata": {},
   "outputs": [],
   "source": [
    "#3 D array"
   ]
  },
  {
   "cell_type": "code",
   "execution_count": 15,
   "id": "6d5ead2b-7427-4560-a8a9-a61e93843f8d",
   "metadata": {},
   "outputs": [
    {
     "name": "stdout",
     "output_type": "stream",
     "text": [
      "[[[1 2 3]\n",
      "  [4 5 6]\n",
      "  [7 8 9]]]\n",
      "3\n"
     ]
    }
   ],
   "source": [
    "arr=np.array([[[1,2,3],[4,5,6],[7,8,9]]])\n",
    "print(arr)\n",
    "print(arr.ndim)"
   ]
  },
  {
   "cell_type": "code",
   "execution_count": 16,
   "id": "84b942c2-5a9c-4f1d-99b1-d6da608656f1",
   "metadata": {},
   "outputs": [],
   "source": [
    "# create an array with 5 dimensions and verify that it has 5 dimensions"
   ]
  },
  {
   "cell_type": "code",
   "execution_count": 22,
   "id": "411d8e5b-09ac-4ec7-9121-0a43a6ab5d3a",
   "metadata": {},
   "outputs": [
    {
     "name": "stdout",
     "output_type": "stream",
     "text": [
      "[[[[[1 2 3 4]]]]]\n",
      "number of dimensions are: 5\n"
     ]
    }
   ],
   "source": [
    "arr=np.array([1,2,3,4], ndmin=5)                # create 5 dimensions\n",
    "print(arr)\n",
    "print('number of dimensions are:',arr.ndim)"
   ]
  },
  {
   "cell_type": "code",
   "execution_count": 21,
   "id": "105d2953-9a4a-4a3e-ba0b-0d9673f983de",
   "metadata": {},
   "outputs": [
    {
     "name": "stdout",
     "output_type": "stream",
     "text": [
      "[[[[[1 2 3 4]]]]]\n",
      "number of dimensions are: 5\n"
     ]
    }
   ],
   "source": [
    "arr=np.array([[[[[1,2,3,4]]]]])                 # create 5 dimensions\n",
    "print(arr)\n",
    "print('number of dimensions are:',arr.ndim)"
   ]
  },
  {
   "cell_type": "code",
   "execution_count": 23,
   "id": "aeb2e4e9-bb11-46f6-a313-29cdba764a86",
   "metadata": {},
   "outputs": [],
   "source": [
    "# Numpy array indexing"
   ]
  },
  {
   "cell_type": "code",
   "execution_count": 25,
   "id": "df2e5c57-2722-4784-997f-ae5d7b419d1b",
   "metadata": {},
   "outputs": [
    {
     "name": "stdout",
     "output_type": "stream",
     "text": [
      "3\n"
     ]
    }
   ],
   "source": [
    "arr=np.array([1,2,3,4,5])               \n",
    "print(arr[2])                   # indexing"
   ]
  },
  {
   "cell_type": "code",
   "execution_count": 26,
   "id": "9e3f0cbc-e63b-4734-8310-3343d266a9c0",
   "metadata": {},
   "outputs": [],
   "source": [
    "# find the 3rd , 6th and 8th elements and add them"
   ]
  },
  {
   "cell_type": "code",
   "execution_count": 28,
   "id": "d2f02aa9-de3c-4b94-b7f4-8dcd5c2d9eee",
   "metadata": {},
   "outputs": [
    {
     "name": "stdout",
     "output_type": "stream",
     "text": [
      "the third element is: 6\n",
      "the sixth element is: 7\n",
      "the 8th element is: 10\n",
      "sum of this elements is: 23\n"
     ]
    }
   ],
   "source": [
    "m=np.array([5,4,3,6,8,7,9,10,34,55,23,76,58,99,100])\n",
    "print('the third element is:',m[3])\n",
    "print('the sixth element is:',m[5])\n",
    "print('the 8th element is:',m[7])\n",
    "print('sum of this elements is:',m[3]+m[5]+m[7])      \n",
    "      "
   ]
  },
  {
   "cell_type": "code",
   "execution_count": 29,
   "id": "3b399d99-1980-4968-b30d-bc016db9b52a",
   "metadata": {},
   "outputs": [],
   "source": [
    "#2 D indexing"
   ]
  },
  {
   "cell_type": "code",
   "execution_count": 34,
   "id": "b182217a-92ec-4f61-bcbb-d517241339a7",
   "metadata": {},
   "outputs": [
    {
     "name": "stdout",
     "output_type": "stream",
     "text": [
      "7\n"
     ]
    }
   ],
   "source": [
    "arr=np.array([[1,2,3,4],[5,6,7,8]])\n",
    "print(arr[1,2])                     # 1 is the position of 2nd array[5,6,7,8]"
   ]
  },
  {
   "cell_type": "code",
   "execution_count": 35,
   "id": "2c261e68-dc59-4d64-ab28-b4e7ad55284c",
   "metadata": {},
   "outputs": [
    {
     "name": "stdout",
     "output_type": "stream",
     "text": [
      "first element of 1st row: 10\n",
      "last element of 2nd row: 100\n",
      "sum is: 110\n"
     ]
    }
   ],
   "source": [
    "arr=np.array([[10,20,30,40,50],[60,70,80,90,100]])\n",
    "print('first element of 1st row:',arr[0,0])\n",
    "print('last element of 2nd row:',arr[1,4])\n",
    "print('sum is:', arr[0,0]+arr[1,4])"
   ]
  },
  {
   "cell_type": "code",
   "execution_count": 36,
   "id": "42daeacd-ccf8-43e3-a0e4-766eaa06f73e",
   "metadata": {},
   "outputs": [],
   "source": [
    "# Access 3 d array"
   ]
  },
  {
   "cell_type": "code",
   "execution_count": 37,
   "id": "107f719b-169c-466d-9dd0-4a56a92e41ce",
   "metadata": {},
   "outputs": [],
   "source": [
    "# Access the 3rd element of the second array of the first array"
   ]
  },
  {
   "cell_type": "code",
   "execution_count": 39,
   "id": "d7170632-c061-4835-855c-249280b918e6",
   "metadata": {},
   "outputs": [
    {
     "name": "stdout",
     "output_type": "stream",
     "text": [
      "6\n"
     ]
    }
   ],
   "source": [
    "arr=np.array([[[1,2,3],[4,5,6]],[[7,8,9],[10,11,12]]])\n",
    "print(arr[0,1,2])"
   ]
  },
  {
   "cell_type": "code",
   "execution_count": 40,
   "id": "0a2b2ed4-7204-47ae-8120-6673ced4f704",
   "metadata": {},
   "outputs": [
    {
     "name": "stdout",
     "output_type": "stream",
     "text": [
      "12\n"
     ]
    }
   ],
   "source": [
    "arr=np.array([[[1,2,3],[4,5,6]],[[7,8,9],[10,11,12]]])\n",
    "print(arr[1,1,2])"
   ]
  },
  {
   "cell_type": "code",
   "execution_count": null,
   "id": "7b7bc0bb-38b5-4eea-a7f0-ab9e10d66f2f",
   "metadata": {},
   "outputs": [],
   "source": []
  },
  {
   "cell_type": "code",
   "execution_count": null,
   "id": "ed9f8b7e-9c91-4061-84ad-ea3a6121c670",
   "metadata": {},
   "outputs": [],
   "source": []
  },
  {
   "cell_type": "code",
   "execution_count": null,
   "id": "58b4493a-d86d-42d4-bf1b-3495bc031033",
   "metadata": {},
   "outputs": [],
   "source": []
  }
 ],
 "metadata": {
  "kernelspec": {
   "display_name": "Python 3 (ipykernel)",
   "language": "python",
   "name": "python3"
  },
  "language_info": {
   "codemirror_mode": {
    "name": "ipython",
    "version": 3
   },
   "file_extension": ".py",
   "mimetype": "text/x-python",
   "name": "python",
   "nbconvert_exporter": "python",
   "pygments_lexer": "ipython3",
   "version": "3.11.5"
  }
 },
 "nbformat": 4,
 "nbformat_minor": 5
}
