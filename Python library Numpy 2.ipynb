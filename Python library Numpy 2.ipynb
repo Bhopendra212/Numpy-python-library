{
 "cells": [
  {
   "cell_type": "code",
   "execution_count": 1,
   "id": "66d25c8c-cbea-4139-acec-eba5eb61f6cc",
   "metadata": {},
   "outputs": [],
   "source": [
    "#Slicing of arrays"
   ]
  },
  {
   "cell_type": "code",
   "execution_count": 2,
   "id": "5b3a6756-1b5f-468d-b8c0-333f67580f59",
   "metadata": {},
   "outputs": [],
   "source": [
    "import numpy as np"
   ]
  },
  {
   "cell_type": "code",
   "execution_count": 3,
   "id": "cb4aaef3-e543-4c66-bab2-4c858835a73b",
   "metadata": {},
   "outputs": [
    {
     "name": "stdout",
     "output_type": "stream",
     "text": [
      "[2 3 4 5]\n"
     ]
    }
   ],
   "source": [
    "arr=np.array([1,2,3,4,5,6,7])\n",
    "print(arr[1:5])"
   ]
  },
  {
   "cell_type": "code",
   "execution_count": 5,
   "id": "64246454-f086-4c0b-b0b4-e6351da39b4c",
   "metadata": {},
   "outputs": [
    {
     "name": "stdout",
     "output_type": "stream",
     "text": [
      "[1 3 5 7]\n"
     ]
    }
   ],
   "source": [
    "arr=np.array([1,2,3,4,5,6,7])\n",
    "print(arr[::2])"
   ]
  },
  {
   "cell_type": "code",
   "execution_count": 6,
   "id": "90cfde46-a74a-4daa-80bf-96827a54b17e",
   "metadata": {},
   "outputs": [],
   "source": [
    "# slicing in 2D array"
   ]
  },
  {
   "cell_type": "code",
   "execution_count": 8,
   "id": "76f9d0b2-3fec-4a81-a82a-73beed33aa53",
   "metadata": {},
   "outputs": [
    {
     "name": "stdout",
     "output_type": "stream",
     "text": [
      "[70 80 90]\n"
     ]
    }
   ],
   "source": [
    "a=np.array([[10,20,30,40,50],[60,70,80,90,100]])\n",
    "print(a[1,1:4])"
   ]
  },
  {
   "cell_type": "code",
   "execution_count": 10,
   "id": "4dba1a27-5dde-4ca7-921d-a6773e5a284a",
   "metadata": {},
   "outputs": [
    {
     "name": "stdout",
     "output_type": "stream",
     "text": [
      "[10 20 30]\n"
     ]
    }
   ],
   "source": [
    "a=np.array([[10,20,30,40,50],[60,70,80,90,100]])\n",
    "print(a[0,0:3])"
   ]
  },
  {
   "cell_type": "code",
   "execution_count": 11,
   "id": "5e9fc2d7-5c88-45cb-8d0c-a16dd8c86fe9",
   "metadata": {},
   "outputs": [],
   "source": [
    "# checking the data type of an array"
   ]
  },
  {
   "cell_type": "code",
   "execution_count": 12,
   "id": "6895242a-1a2e-47f7-b6fc-f6bc099749a7",
   "metadata": {},
   "outputs": [
    {
     "name": "stdout",
     "output_type": "stream",
     "text": [
      "int32\n"
     ]
    }
   ],
   "source": [
    "arr=np.array([1,2,3,4])\n",
    "print(arr.dtype)"
   ]
  },
  {
   "cell_type": "code",
   "execution_count": 13,
   "id": "b9da1eb5-ad75-46e8-9e35-04cec88e5893",
   "metadata": {},
   "outputs": [
    {
     "name": "stdout",
     "output_type": "stream",
     "text": [
      "<U6\n"
     ]
    }
   ],
   "source": [
    "arr=np.array(['animal','bat'])\n",
    "print(arr.dtype)"
   ]
  },
  {
   "cell_type": "code",
   "execution_count": 14,
   "id": "39dab8b0-f3dc-4384-9278-f40d7d5048be",
   "metadata": {},
   "outputs": [],
   "source": [
    "# Creating array with a defined data type"
   ]
  },
  {
   "cell_type": "code",
   "execution_count": 15,
   "id": "986ae0b6-87a5-47e5-be72-9db4bdd9bc34",
   "metadata": {},
   "outputs": [
    {
     "name": "stdout",
     "output_type": "stream",
     "text": [
      "[b'1' b'2' b'3' b'4' b'5']\n",
      "|S1\n"
     ]
    }
   ],
   "source": [
    "arr=np.array([1,2,3,4,5], dtype='S')\n",
    "print(arr)\n",
    "print(arr.dtype)"
   ]
  },
  {
   "cell_type": "code",
   "execution_count": 16,
   "id": "6801723b-b6e2-4db4-95f2-431b283e2b1b",
   "metadata": {},
   "outputs": [],
   "source": [
    "# CREATE AN ARRAY WITH DATA TYPES 4 BYTES INTEGER"
   ]
  },
  {
   "cell_type": "code",
   "execution_count": 17,
   "id": "399764b0-5597-46c4-ba8b-ff749c16cae4",
   "metadata": {},
   "outputs": [
    {
     "name": "stdout",
     "output_type": "stream",
     "text": [
      "[1 2 3 4 5]\n",
      "int32\n"
     ]
    }
   ],
   "source": [
    "arr=np.array([1,2,3,4,5], dtype='i4')\n",
    "print(arr)\n",
    "print(arr.dtype)"
   ]
  },
  {
   "cell_type": "code",
   "execution_count": 18,
   "id": "b43c61eb-2dea-46df-ac28-8591e3371547",
   "metadata": {},
   "outputs": [],
   "source": [
    "# Numpy array shapes"
   ]
  },
  {
   "cell_type": "code",
   "execution_count": 19,
   "id": "696764c0-9230-4b9c-9cde-5bab0291c094",
   "metadata": {},
   "outputs": [],
   "source": [
    "# the shape of an array is the number of elements in each dimension"
   ]
  },
  {
   "cell_type": "code",
   "execution_count": 20,
   "id": "ebf1212f-b3e5-4f74-b8f2-50b11ea72068",
   "metadata": {},
   "outputs": [],
   "source": [
    "#print the shape of 2D array"
   ]
  },
  {
   "cell_type": "code",
   "execution_count": 21,
   "id": "82955a33-a473-4a1f-9c4c-521e5069df0d",
   "metadata": {},
   "outputs": [
    {
     "name": "stdout",
     "output_type": "stream",
     "text": [
      "(2, 4)\n"
     ]
    }
   ],
   "source": [
    "arr=np.array([[1,2,3,4],[5,6,7,8]])\n",
    "print(arr.shape)"
   ]
  },
  {
   "cell_type": "code",
   "execution_count": 22,
   "id": "0bef785c-dfec-44b4-9501-0793774e1cac",
   "metadata": {},
   "outputs": [
    {
     "name": "stdout",
     "output_type": "stream",
     "text": [
      "(4,)\n"
     ]
    }
   ],
   "source": [
    "arr=np.array([1,2,3,4])\n",
    "print(arr.shape)"
   ]
  },
  {
   "cell_type": "code",
   "execution_count": 23,
   "id": "47e13a0d-bea8-4e18-85e8-f35d62e67816",
   "metadata": {},
   "outputs": [
    {
     "name": "stdout",
     "output_type": "stream",
     "text": [
      "(1, 3, 4)\n"
     ]
    }
   ],
   "source": [
    "arr=np.array([[[1,2,3,4],[5,6,7,8],[9,10,11,12]]])\n",
    "print(arr.shape)"
   ]
  },
  {
   "cell_type": "code",
   "execution_count": 26,
   "id": "2948c60a-1410-449c-bb5b-a330b777cb08",
   "metadata": {},
   "outputs": [],
   "source": [
    "# Joining Numpy 1D array"
   ]
  },
  {
   "cell_type": "code",
   "execution_count": 25,
   "id": "b0c8fc1e-f29f-4012-af8c-57559a32e029",
   "metadata": {},
   "outputs": [
    {
     "name": "stdout",
     "output_type": "stream",
     "text": [
      "[1 2 3 4 5 6]\n"
     ]
    }
   ],
   "source": [
    "arr1=np.array([1,2,3])\n",
    "arr2=np.array([4,5,6])\n",
    "arr=np.concatenate((arr1,arr2))\n",
    "print(arr)"
   ]
  },
  {
   "cell_type": "code",
   "execution_count": 27,
   "id": "e97bc026-88ef-44e3-892c-ea257a6651fe",
   "metadata": {},
   "outputs": [],
   "source": [
    "# Joining Numpy 2D array"
   ]
  },
  {
   "cell_type": "code",
   "execution_count": 29,
   "id": "24732820-292e-4a12-ab3f-b3bc1785478f",
   "metadata": {},
   "outputs": [
    {
     "name": "stdout",
     "output_type": "stream",
     "text": [
      "[[1 2 5 6]\n",
      " [3 4 7 8]]\n"
     ]
    }
   ],
   "source": [
    "arr1=np.array([[1,2],[3,4]])\n",
    "arr2=np.array([[5,6],[7,8]])\n",
    "arr=np.concatenate((arr1,arr2),axis=1)\n",
    "print(arr)"
   ]
  },
  {
   "cell_type": "code",
   "execution_count": 30,
   "id": "3249a506-2cc9-4567-94a8-2e8dc37594aa",
   "metadata": {},
   "outputs": [
    {
     "name": "stdout",
     "output_type": "stream",
     "text": [
      "[[1 2]\n",
      " [3 4]\n",
      " [5 6]\n",
      " [7 8]]\n"
     ]
    }
   ],
   "source": [
    "arr1=np.array([[1,2],[3,4]])\n",
    "arr2=np.array([[5,6],[7,8]])\n",
    "arr=np.concatenate((arr1,arr2),axis=0)\n",
    "print(arr)"
   ]
  },
  {
   "cell_type": "code",
   "execution_count": 31,
   "id": "03f91fb8-529c-4e7d-9f36-dc1da6814731",
   "metadata": {},
   "outputs": [],
   "source": [
    "# splitting Numpy arrays"
   ]
  },
  {
   "cell_type": "code",
   "execution_count": 32,
   "id": "98117875-7710-486f-94ff-9421c9ca2d1c",
   "metadata": {},
   "outputs": [],
   "source": [
    "# splitting the array in 3 parts"
   ]
  },
  {
   "cell_type": "code",
   "execution_count": 33,
   "id": "e906d562-27d6-4df6-807c-5610bf18d369",
   "metadata": {},
   "outputs": [
    {
     "name": "stdout",
     "output_type": "stream",
     "text": [
      "[array([1, 2]), array([3, 4]), array([5, 6])]\n"
     ]
    }
   ],
   "source": [
    "arr=np.array([1,2,3,4,5,6])\n",
    "newarr=np.array_split(arr,3)\n",
    "print(newarr)"
   ]
  },
  {
   "cell_type": "code",
   "execution_count": 34,
   "id": "fc463347-1a4c-4ed3-a4ce-b8562051341f",
   "metadata": {},
   "outputs": [],
   "source": [
    "# splitting the array in 4 parts"
   ]
  },
  {
   "cell_type": "code",
   "execution_count": 35,
   "id": "73b296f0-57c9-4fa3-a318-1a9781ebfbe1",
   "metadata": {},
   "outputs": [
    {
     "name": "stdout",
     "output_type": "stream",
     "text": [
      "[array([1, 2]), array([3, 4]), array([5]), array([6])]\n"
     ]
    }
   ],
   "source": [
    "arr=np.array([1,2,3,4,5,6])\n",
    "newarr=np.array_split(arr,4)\n",
    "print(newarr)"
   ]
  },
  {
   "cell_type": "code",
   "execution_count": 37,
   "id": "fc807c2d-9ea0-4ad6-810e-7df8577253aa",
   "metadata": {},
   "outputs": [],
   "source": [
    "# ravel & faltten -- convert multidimensional array into 1D array"
   ]
  },
  {
   "cell_type": "code",
   "execution_count": 40,
   "id": "a164ba99-1f31-42de-a1b1-05b59940e25c",
   "metadata": {},
   "outputs": [
    {
     "name": "stdout",
     "output_type": "stream",
     "text": [
      "[[[1 2 3]\n",
      "  [4 5 6]\n",
      "  [7 8 9]]]\n",
      "Dimension is : 3\n",
      "[1 2 3 4 5 6 7 8 9]\n",
      "The new dimension is: 1\n"
     ]
    }
   ],
   "source": [
    "m=np.array([[[1,2,3],[4,5,6],[7,8,9]]])\n",
    "print(m)\n",
    "print('Dimension is :',m.ndim)\n",
    "n=m.ravel()\n",
    "print(n)\n",
    "print('The new dimension is:',n.ndim)"
   ]
  },
  {
   "cell_type": "code",
   "execution_count": 41,
   "id": "63c36526-c573-4108-91dc-3a711f7079af",
   "metadata": {},
   "outputs": [
    {
     "name": "stdout",
     "output_type": "stream",
     "text": [
      "[[[1 2 3]\n",
      "  [4 5 6]\n",
      "  [7 8 9]]]\n",
      "Dimension is : 3\n",
      "[1 2 3 4 5 6 7 8 9]\n",
      "The new dimension is: 1\n"
     ]
    }
   ],
   "source": [
    "m=np.array([[[1,2,3],[4,5,6],[7,8,9]]])\n",
    "print(m)\n",
    "print('Dimension is :',m.ndim)\n",
    "n=m.flatten()\n",
    "print(n)\n",
    "print('The new dimension is:',n.ndim)"
   ]
  },
  {
   "cell_type": "code",
   "execution_count": 47,
   "id": "cf631973-f89e-47f7-9794-951d055dd2c4",
   "metadata": {},
   "outputs": [
    {
     "name": "stdout",
     "output_type": "stream",
     "text": [
      "[[[[ 1  2  3]\n",
      "   [67 78 65]\n",
      "   [23 33 43]]]]\n",
      "The dimension is: 4\n",
      "[ 1  2  3 67 78 65 23 33 43]\n",
      "the new dimension is: 1\n"
     ]
    }
   ],
   "source": [
    "c=np.array([[[[1,2,3],[67,78,65],[23,33,43]]]])\n",
    "print(c)\n",
    "print('The dimension is:',c.ndim)\n",
    "d=c.ravel()\n",
    "print(d)\n",
    "print('the new dimension is:',d.ndim)"
   ]
  },
  {
   "cell_type": "code",
   "execution_count": 48,
   "id": "49b474e9-30b9-4458-b537-78bcd29b4b79",
   "metadata": {},
   "outputs": [
    {
     "name": "stdout",
     "output_type": "stream",
     "text": [
      "[[[[ 1  2  3]\n",
      "   [67 78 65]\n",
      "   [23 33 43]]]]\n",
      "The dimension is: 4\n",
      "[ 1  2  3 67 78 65 23 33 43]\n",
      "the new dimension is: 1\n"
     ]
    }
   ],
   "source": [
    "c=np.array([[[[1,2,3],[67,78,65],[23,33,43]]]])\n",
    "print(c)\n",
    "print('The dimension is:',c.ndim)\n",
    "d=c.flatten()\n",
    "print(d)\n",
    "print('the new dimension is:',d.ndim)"
   ]
  },
  {
   "cell_type": "code",
   "execution_count": 51,
   "id": "3e3215d2-892c-449d-9c30-60e47143360c",
   "metadata": {},
   "outputs": [],
   "source": [
    "# Unique function t print the unique values\\ elements"
   ]
  },
  {
   "cell_type": "code",
   "execution_count": 50,
   "id": "61a0eeb6-5cb6-4cc9-a7e2-b89331904bcc",
   "metadata": {},
   "outputs": [
    {
     "name": "stdout",
     "output_type": "stream",
     "text": [
      "[12  3  4 56 42 78 22 33 44 55 66 22 33 98 78]\n",
      "[ 3  4 12 22 33 42 44 55 56 66 78 98]\n"
     ]
    }
   ],
   "source": [
    "k=np.array([12,3,4,56,42,78,22,33,44,55,66,22,33,98,78])\n",
    "print(k)\n",
    "x=np.unique(k)\n",
    "print(x)"
   ]
  },
  {
   "cell_type": "code",
   "execution_count": 52,
   "id": "fe2e1747-a6aa-4c05-aa25-dda92221015c",
   "metadata": {},
   "outputs": [],
   "source": [
    "#Delete"
   ]
  },
  {
   "cell_type": "code",
   "execution_count": 54,
   "id": "56552de3-106c-409a-9b88-64910670a6e6",
   "metadata": {},
   "outputs": [
    {
     "name": "stdout",
     "output_type": "stream",
     "text": [
      "[1 3 4 5 6 7]\n"
     ]
    }
   ],
   "source": [
    "a=np.array([1,2,3,4,5,6,7])\n",
    "d=np.delete(a,[1])\n",
    "print(d)"
   ]
  },
  {
   "cell_type": "code",
   "execution_count": 56,
   "id": "9812b1e6-24e5-459c-8e0f-51fa391cbd82",
   "metadata": {},
   "outputs": [
    {
     "name": "stdout",
     "output_type": "stream",
     "text": [
      "[[ 1  2  3  4]\n",
      " [ 5  6  7  8]\n",
      " [10 20 30 40]]\n",
      "\n",
      "[[ 1  2  3  4]\n",
      " [10 20 30 40]]\n"
     ]
    }
   ],
   "source": [
    "x=np.array([[1,2,3,4],[5,6,7,8],[10,20,30,40]])\n",
    "print(x)\n",
    "m=np.delete(x,1,axis=0)\n",
    "print()\n",
    "print(m)"
   ]
  },
  {
   "cell_type": "code",
   "execution_count": null,
   "id": "495871ea-fc56-4edd-869a-34f4a5cf5c03",
   "metadata": {},
   "outputs": [],
   "source": []
  },
  {
   "cell_type": "code",
   "execution_count": null,
   "id": "e23d2443-e788-46a1-b78e-7a58ebc1567b",
   "metadata": {},
   "outputs": [],
   "source": []
  },
  {
   "cell_type": "code",
   "execution_count": null,
   "id": "4768208e-65e3-45f0-aeaf-2f5cd2895bce",
   "metadata": {},
   "outputs": [],
   "source": []
  }
 ],
 "metadata": {
  "kernelspec": {
   "display_name": "Python 3 (ipykernel)",
   "language": "python",
   "name": "python3"
  },
  "language_info": {
   "codemirror_mode": {
    "name": "ipython",
    "version": 3
   },
   "file_extension": ".py",
   "mimetype": "text/x-python",
   "name": "python",
   "nbconvert_exporter": "python",
   "pygments_lexer": "ipython3",
   "version": "3.11.5"
  }
 },
 "nbformat": 4,
 "nbformat_minor": 5
}
